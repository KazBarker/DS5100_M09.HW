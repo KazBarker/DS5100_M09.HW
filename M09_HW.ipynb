{
 "cells": [
  {
   "cell_type": "markdown",
   "id": "bbea800c-241d-42b4-a744-ecaffe13959e",
   "metadata": {},
   "source": [
    "# Metadata\n",
    "\n",
    "```yaml\n",
    "Course:  DS 5100\n",
    "Module:  09 Python Packages\n",
    "Topic:   HW Package Booklover\n",
    "Author:  R.C. Alvarado (adapted)\n",
    "Date:    7 July 2023 (revised)\n",
    "```"
   ]
  },
  {
   "cell_type": "markdown",
   "id": "36f46fdd-2405-4dc8-9ea1-33f395e56cc0",
   "metadata": {},
   "source": [
    "# Student Info\n",
    "\n",
    "* Name: Kaz Barker\n",
    "* Net UD: nrg6cb\n",
    "* URL of this file in GitHub: [https://github.com/KazBarker/DS5100_M09.HW/tree/main/M09_HW.ipynb](https://github.com/KazBarker/DS5100_M09.HW/tree/main/M09_HW.ipynb)"
   ]
  },
  {
   "cell_type": "markdown",
   "id": "375875a8-1503-46eb-8ea1-7e5bf39b5c41",
   "metadata": {},
   "source": [
    "# Instructions\n",
    "\n",
    "In your **private course repo on Rivanna**, use this Jupyter notebook and the data file described to write code that performs the tasks below. \n",
    "\n",
    "Save your notebook in the `M09` directory.\n",
    "\n",
    "Remember to add and commit these files to your repo. \n",
    "\n",
    "Then push your commits to your repo on GitHib.\n",
    "\n",
    "Be sure to fill out the **Student Info** block above.\n",
    "\n",
    "To submit your homework, save your results as a PDF and upload it to GradeScope. More information about how to create the PDF for this assignment are included at the end of this document.\n",
    "\n",
    "**TOTAL POINTS: 8**"
   ]
  },
  {
   "cell_type": "markdown",
   "id": "1baf08dc-35fe-44f1-bc26-7e1130ee993e",
   "metadata": {},
   "source": [
    "# Overview\n",
    "\n",
    "Follow the following recipe we used in class to package the code you wrote for `HW08` -- `booklover.py` and `booklover_test.py`.\n",
    "\n",
    "* Create a new git repo for your package.\n",
    "* Create and edit the required files and directories for your package and move the booklover modules there.\n",
    "* Stage, commit, and push all the files you've created.\n",
    "* Install your package with pip.\n",
    "* Outside of your package dir, write a script to test your method.\n",
    "\n",
    "Put this notebook in your repo. This will allow you to execute bash commands and capture the outpunt directly in the notebook.\n",
    "\n",
    "**TOTAL: 8 POINTS**"
   ]
  },
  {
   "cell_type": "markdown",
   "id": "6e39ba79-49ee-41e8-9e49-23d9d6bac2e0",
   "metadata": {
    "tags": []
   },
   "source": [
    "# Tasks"
   ]
  },
  {
   "cell_type": "markdown",
   "id": "fb11de14",
   "metadata": {},
   "source": [
    "## Task 1\n",
    "\n",
    "(5 points)\n",
    "\n",
    "Show the directory structure of your repo by running this command from the root of your repo:"
   ]
  },
  {
   "cell_type": "code",
   "execution_count": 6,
   "id": "7e6c6607",
   "metadata": {},
   "outputs": [
    {
     "name": "stdout",
     "output_type": "stream",
     "text": [
      "total 48\n",
      "-rw-r--r--  1 katherinebarker  staff  1066 Oct 29 16:59 LICENSE\n",
      "-rw-r--r--@ 1 katherinebarker  staff  8626 Oct 29 17:48 M09_HW.ipynb\n",
      "-rw-r--r--  1 katherinebarker  staff    16 Oct 29 16:59 README.md\n",
      "drwxr-xr-x  7 katherinebarker  staff   224 Oct 29 20:01 \u001b[34mbooklover_M09\u001b[m\u001b[m\n",
      "drwxr-xr-x  6 katherinebarker  staff   192 Oct 29 20:12 \u001b[34mbooklover_M09.egg-info\u001b[m\u001b[m\n",
      "drwxr-xr-x  4 katherinebarker  staff   128 Oct 29 20:01 \u001b[34mbuild\u001b[m\u001b[m\n",
      "-rw-r--r--@ 1 katherinebarker  staff   362 Oct 29 19:33 setup.py\n",
      "\n",
      "./booklover_M09:\n",
      "total 24\n",
      "-rw-r--r--@ 1 katherinebarker  staff   256 Oct 29 19:55 __init__.py\n",
      "drwxr-xr-x  5 katherinebarker  staff   160 Oct 29 20:01 \u001b[34m__pycache__\u001b[m\u001b[m\n",
      "-rw-r--r--@ 1 katherinebarker  staff  1370 Oct 29 17:50 booklover_module.py\n",
      "-rw-r--r--@ 1 katherinebarker  staff  1513 Oct 29 20:01 test_booklover_module.py\n",
      "\n",
      "./booklover_M09/__pycache__:\n",
      "total 24\n",
      "-rw-r--r--  1 katherinebarker  staff   695 Oct 29 20:01 __init__.cpython-311.pyc\n",
      "-rw-r--r--  1 katherinebarker  staff  2699 Oct 29 20:01 booklover_module.cpython-311.pyc\n",
      "-rw-r--r--  1 katherinebarker  staff  3781 Oct 29 20:01 test_booklover_module.cpython-311.pyc\n",
      "\n",
      "./booklover_M09.egg-info:\n",
      "total 32\n",
      "-rw-r--r--  1 katherinebarker  staff  292 Oct 29 20:12 PKG-INFO\n",
      "-rw-r--r--  1 katherinebarker  staff  273 Oct 29 20:12 SOURCES.txt\n",
      "-rw-r--r--  1 katherinebarker  staff    1 Oct 29 20:12 dependency_links.txt\n",
      "-rw-r--r--  1 katherinebarker  staff   14 Oct 29 20:12 top_level.txt\n",
      "\n",
      "./build:\n",
      "total 0\n",
      "drwxr-xr-x  2 katherinebarker  staff  64 Oct 29 20:01 \u001b[34mbdist.macosx-10.9-x86_64\u001b[m\u001b[m\n",
      "drwxr-xr-x  3 katherinebarker  staff  96 Oct 29 20:01 \u001b[34mlib\u001b[m\u001b[m\n",
      "\n",
      "./build/bdist.macosx-10.9-x86_64:\n",
      "total 0\n",
      "\n",
      "./build/lib:\n",
      "total 0\n",
      "drwxr-xr-x  5 katherinebarker  staff  160 Oct 29 20:01 \u001b[34mbooklover_M09\u001b[m\u001b[m\n",
      "\n",
      "./build/lib/booklover_M09:\n",
      "total 24\n",
      "-rw-r--r--  1 katherinebarker  staff   256 Oct 29 19:55 __init__.py\n",
      "-rw-r--r--  1 katherinebarker  staff  1370 Oct 29 17:50 booklover_module.py\n",
      "-rw-r--r--  1 katherinebarker  staff  1513 Oct 29 20:01 test_booklover_module.py\n"
     ]
    }
   ],
   "source": [
    "!ls -lR"
   ]
  },
  {
   "cell_type": "markdown",
   "id": "6b6f288b-05aa-441b-8c73-84b50b3b6844",
   "metadata": {},
   "source": [
    "## Task 2\n",
    "\n",
    "(1 point)\n",
    "\n",
    "Put the URL of your GitHub repo here. Just paste it into a Markdown cell."
   ]
  },
  {
   "cell_type": "markdown",
   "id": "4d09d889-6104-4f20-b31c-2d8a72b17693",
   "metadata": {},
   "source": [
    "URL: [https://github.com/KazBarker/DS5100_M09.HW/tree/main](https://github.com/KazBarker/DS5100_M09.HW/tree/main)"
   ]
  },
  {
   "cell_type": "markdown",
   "id": "f989dcd1-b1d2-4eb9-8ef6-8ca2d8495260",
   "metadata": {
    "lines_to_next_cell": 0
   },
   "source": [
    "## Task 3\n",
    "\n",
    "(1 point)\n",
    "\n",
    "Show the results of installing your package.\n",
    "\n",
    "```bash\n",
    "!pip install -e .\n",
    "```"
   ]
  },
  {
   "cell_type": "code",
   "execution_count": 7,
   "id": "1177c39f",
   "metadata": {
    "vscode": {
     "languageId": "shellscript"
    }
   },
   "outputs": [
    {
     "name": "stdout",
     "output_type": "stream",
     "text": [
      "Obtaining file:///Users/katherinebarker/Documents/GitHub/DS5100_M09.HW\n",
      "  Preparing metadata (setup.py) ... \u001b[?25ldone\n",
      "\u001b[?25hInstalling collected packages: booklover-M09\n",
      "  Attempting uninstall: booklover-M09\n",
      "    Found existing installation: booklover-M09 0.0.1\n",
      "    Uninstalling booklover-M09-0.0.1:\n",
      "      Successfully uninstalled booklover-M09-0.0.1\n",
      "  Running setup.py develop for booklover-M09\n",
      "Successfully installed booklover-M09-0.0.1\n"
     ]
    }
   ],
   "source": [
    "!pip install -e ."
   ]
  },
  {
   "cell_type": "markdown",
   "id": "5b1a642e-74f0-43ff-97a3-9ddc7553978e",
   "metadata": {},
   "source": [
    "## Task 4\n",
    "\n",
    "(1 point)\n",
    "\n",
    "Create a file outside your repo to test your package by running it.\n",
    "\n",
    "To do this, import the package into your file and create a BookLover object.\n",
    "\n",
    "Then add a book and then print number books read.\n",
    "\n",
    "Then run the file. \n",
    "\n",
    "Show the output of running the file below, using a command like the following:\n",
    "\n",
    "```bash\n",
    "!python ../book_lover_demo.py\n",
    "```"
   ]
  },
  {
   "cell_type": "code",
   "execution_count": 8,
   "id": "5924fca8-6483-4f2b-a33f-6550d1726d6e",
   "metadata": {
    "vscode": {
     "languageId": "shellscript"
    }
   },
   "outputs": [
    {
     "name": "stdout",
     "output_type": "stream",
     "text": [
      "BookOne  has been added to the list.\n",
      ".BookTwo  has been added to the list.\n",
      "PersonTwo  has already read  BookTwo\n",
      ".BookThree  has been added to the list.\n",
      "..BookFive  has been added to the list.\n",
      "BookFour  has been added to the list.\n",
      "BookThree  has been added to the list.\n",
      ".BookSix  has been added to the list.\n",
      "BookSeven  has been added to the list.\n",
      "BookEight  has been added to the list.\n",
      ".\n",
      "----------------------------------------------------------------------\n",
      "Ran 6 tests in 0.009s\n",
      "\n",
      "OK\n",
      "Import successful!\n",
      "Principia Mathematica  has been added to the list.\n",
      "1\n"
     ]
    }
   ],
   "source": [
    "!python ~/Desktop/booklover_demo.py"
   ]
  }
 ],
 "metadata": {
  "jupytext": {
   "cell_metadata_filter": "-all",
   "main_language": "bash",
   "notebook_metadata_filter": "-all"
  },
  "kernelspec": {
   "display_name": "Python 3 (ipykernel)",
   "language": "python",
   "name": "python3"
  },
  "language_info": {
   "codemirror_mode": {
    "name": "ipython",
    "version": 3
   },
   "file_extension": ".py",
   "mimetype": "text/x-python",
   "name": "python",
   "nbconvert_exporter": "python",
   "pygments_lexer": "ipython3",
   "version": "3.11.4"
  },
  "vscode": {
   "interpreter": {
    "hash": "c3b963de08c47c3b6758389c5e0978ad73698a111eb508d4e16b558edb8f4cbf"
   }
  },
  "widgets": {
   "application/vnd.jupyter.widget-state+json": {
    "state": {},
    "version_major": 2,
    "version_minor": 0
   }
  }
 },
 "nbformat": 4,
 "nbformat_minor": 5
}
